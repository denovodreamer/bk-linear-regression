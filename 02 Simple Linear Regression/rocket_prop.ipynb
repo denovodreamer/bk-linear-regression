{
 "cells": [
  {
   "cell_type": "markdown",
   "id": "277ac758-7fe9-462a-8558-c4366fcf510f",
   "metadata": {},
   "source": [
    "  "
   ]
  },
  {
   "cell_type": "markdown",
   "id": "1056d1fe-2177-4074-8e1e-f5f7cf025f17",
   "metadata": {},
   "source": [
    "  "
   ]
  },
  {
   "cell_type": "markdown",
   "id": "b004c00f-b4a7-4ac6-a9f2-d0e2759c6d52",
   "metadata": {},
   "source": [
    "  "
   ]
  },
  {
   "cell_type": "markdown",
   "id": "b4d82550-d51c-46e1-ba25-48b7573b1679",
   "metadata": {},
   "source": [
    "  "
   ]
  },
  {
   "cell_type": "code",
   "execution_count": 18,
   "id": "73bf2804-2800-475b-a6d4-1b5a793ae9bb",
   "metadata": {},
   "outputs": [],
   "source": [
    "from pathlib import Path\n",
    "import pandas as pd"
   ]
  },
  {
   "cell_type": "markdown",
   "id": "929f2b3f-ca56-426c-8575-250ee45f4ee5",
   "metadata": {},
   "source": [
    "  "
   ]
  },
  {
   "cell_type": "markdown",
   "id": "de02f47f-7050-474f-89a7-abfca642e0a3",
   "metadata": {},
   "source": [
    "  "
   ]
  },
  {
   "cell_type": "code",
   "execution_count": 20,
   "id": "ca07d77d-c2f6-4e3d-b6d3-ad5de996070b",
   "metadata": {},
   "outputs": [],
   "source": [
    "from utils import least_squares"
   ]
  },
  {
   "cell_type": "markdown",
   "id": "dead229c-7135-41c4-88c5-5026af256cb1",
   "metadata": {},
   "source": [
    "  "
   ]
  },
  {
   "cell_type": "markdown",
   "id": "8568887b-cd7f-45a6-8637-c43e8d957e12",
   "metadata": {},
   "source": [
    "  "
   ]
  },
  {
   "cell_type": "code",
   "execution_count": 7,
   "id": "9a4fb05f-d679-4b5a-933b-096065bc58c1",
   "metadata": {},
   "outputs": [],
   "source": [
    "DATA_PATH = Path(\"/Users/pedro/Desktop/projects/bk-linear-regression/data\")\n",
    "\n",
    "df = pd.read_excel(DATA_PATH/'Data_Sets_for_Chapter_2'/'data-ex-2-1 (Rocket Prop).xls')"
   ]
  },
  {
   "cell_type": "markdown",
   "id": "6ca5c76c-f440-4e1d-83dc-8f97622e7f99",
   "metadata": {},
   "source": [
    "  "
   ]
  },
  {
   "cell_type": "markdown",
   "id": "5b8bfb1c-4824-43ab-8000-77105f09753f",
   "metadata": {},
   "source": [
    "  "
   ]
  },
  {
   "cell_type": "markdown",
   "id": "f51389e3-b37f-41db-9542-a19aec05b9b2",
   "metadata": {},
   "source": [
    "  "
   ]
  },
  {
   "cell_type": "code",
   "execution_count": 8,
   "id": "27aebcb2-cc61-43e1-8f5b-f02df6d8b66b",
   "metadata": {},
   "outputs": [
    {
     "name": "stdout",
     "output_type": "stream",
     "text": [
      "['Observation, i', 'Shear Strength, yi (psi)', 'Age of Propellant, xi (weeks)']\n"
     ]
    }
   ],
   "source": [
    "print(df.columns.to_list())"
   ]
  },
  {
   "cell_type": "markdown",
   "id": "c3500203-18f9-4d56-b203-b8883f9532b9",
   "metadata": {},
   "source": [
    "  "
   ]
  },
  {
   "cell_type": "markdown",
   "id": "0c1fee04-daf3-4e32-83e9-ec38fab72f58",
   "metadata": {},
   "source": [
    "  "
   ]
  },
  {
   "cell_type": "markdown",
   "id": "daf1473e-7a07-4826-9ba3-2a3f572d0d1e",
   "metadata": {},
   "source": [
    "  "
   ]
  },
  {
   "cell_type": "code",
   "execution_count": 9,
   "id": "f55742da-65b0-4f05-8476-2b0e25fe90b0",
   "metadata": {},
   "outputs": [
    {
     "data": {
      "text/html": [
       "<div>\n",
       "<style scoped>\n",
       "    .dataframe tbody tr th:only-of-type {\n",
       "        vertical-align: middle;\n",
       "    }\n",
       "\n",
       "    .dataframe tbody tr th {\n",
       "        vertical-align: top;\n",
       "    }\n",
       "\n",
       "    .dataframe thead th {\n",
       "        text-align: right;\n",
       "    }\n",
       "</style>\n",
       "<table border=\"1\" class=\"dataframe\">\n",
       "  <thead>\n",
       "    <tr style=\"text-align: right;\">\n",
       "      <th></th>\n",
       "      <th>Shear</th>\n",
       "      <th>Age</th>\n",
       "    </tr>\n",
       "  </thead>\n",
       "  <tbody>\n",
       "    <tr>\n",
       "      <th>0</th>\n",
       "      <td>2158.70</td>\n",
       "      <td>15.50</td>\n",
       "    </tr>\n",
       "    <tr>\n",
       "      <th>1</th>\n",
       "      <td>1678.15</td>\n",
       "      <td>23.75</td>\n",
       "    </tr>\n",
       "    <tr>\n",
       "      <th>2</th>\n",
       "      <td>2316.00</td>\n",
       "      <td>8.00</td>\n",
       "    </tr>\n",
       "    <tr>\n",
       "      <th>3</th>\n",
       "      <td>2061.30</td>\n",
       "      <td>17.00</td>\n",
       "    </tr>\n",
       "    <tr>\n",
       "      <th>4</th>\n",
       "      <td>2207.50</td>\n",
       "      <td>5.50</td>\n",
       "    </tr>\n",
       "    <tr>\n",
       "      <th>5</th>\n",
       "      <td>1708.30</td>\n",
       "      <td>19.00</td>\n",
       "    </tr>\n",
       "    <tr>\n",
       "      <th>6</th>\n",
       "      <td>1784.70</td>\n",
       "      <td>24.00</td>\n",
       "    </tr>\n",
       "    <tr>\n",
       "      <th>7</th>\n",
       "      <td>2575.00</td>\n",
       "      <td>2.50</td>\n",
       "    </tr>\n",
       "    <tr>\n",
       "      <th>8</th>\n",
       "      <td>2357.90</td>\n",
       "      <td>7.50</td>\n",
       "    </tr>\n",
       "    <tr>\n",
       "      <th>9</th>\n",
       "      <td>2256.70</td>\n",
       "      <td>11.00</td>\n",
       "    </tr>\n",
       "    <tr>\n",
       "      <th>10</th>\n",
       "      <td>2165.20</td>\n",
       "      <td>13.00</td>\n",
       "    </tr>\n",
       "    <tr>\n",
       "      <th>11</th>\n",
       "      <td>2399.55</td>\n",
       "      <td>3.75</td>\n",
       "    </tr>\n",
       "    <tr>\n",
       "      <th>12</th>\n",
       "      <td>1779.80</td>\n",
       "      <td>25.00</td>\n",
       "    </tr>\n",
       "    <tr>\n",
       "      <th>13</th>\n",
       "      <td>2336.75</td>\n",
       "      <td>9.75</td>\n",
       "    </tr>\n",
       "    <tr>\n",
       "      <th>14</th>\n",
       "      <td>1765.30</td>\n",
       "      <td>22.00</td>\n",
       "    </tr>\n",
       "    <tr>\n",
       "      <th>15</th>\n",
       "      <td>2053.50</td>\n",
       "      <td>18.00</td>\n",
       "    </tr>\n",
       "    <tr>\n",
       "      <th>16</th>\n",
       "      <td>2414.40</td>\n",
       "      <td>6.00</td>\n",
       "    </tr>\n",
       "    <tr>\n",
       "      <th>17</th>\n",
       "      <td>2200.50</td>\n",
       "      <td>12.50</td>\n",
       "    </tr>\n",
       "    <tr>\n",
       "      <th>18</th>\n",
       "      <td>2654.20</td>\n",
       "      <td>2.00</td>\n",
       "    </tr>\n",
       "    <tr>\n",
       "      <th>19</th>\n",
       "      <td>1753.70</td>\n",
       "      <td>21.50</td>\n",
       "    </tr>\n",
       "  </tbody>\n",
       "</table>\n",
       "</div>"
      ],
      "text/plain": [
       "      Shear    Age\n",
       "0   2158.70  15.50\n",
       "1   1678.15  23.75\n",
       "2   2316.00   8.00\n",
       "3   2061.30  17.00\n",
       "4   2207.50   5.50\n",
       "5   1708.30  19.00\n",
       "6   1784.70  24.00\n",
       "7   2575.00   2.50\n",
       "8   2357.90   7.50\n",
       "9   2256.70  11.00\n",
       "10  2165.20  13.00\n",
       "11  2399.55   3.75\n",
       "12  1779.80  25.00\n",
       "13  2336.75   9.75\n",
       "14  1765.30  22.00\n",
       "15  2053.50  18.00\n",
       "16  2414.40   6.00\n",
       "17  2200.50  12.50\n",
       "18  2654.20   2.00\n",
       "19  1753.70  21.50"
      ]
     },
     "execution_count": 9,
     "metadata": {},
     "output_type": "execute_result"
    }
   ],
   "source": [
    "df = df.iloc[:, 1:].copy()\n",
    "\n",
    "df.columns = ['Shear', 'Age']\n",
    "\n",
    "df"
   ]
  },
  {
   "cell_type": "markdown",
   "id": "135eb2c3-26bb-4f34-8a8e-158d58684b28",
   "metadata": {},
   "source": [
    "  "
   ]
  },
  {
   "cell_type": "markdown",
   "id": "4d2e4f66-0f00-4bea-bb81-e31b9ad76773",
   "metadata": {},
   "source": [
    "  "
   ]
  },
  {
   "cell_type": "markdown",
   "id": "ac2ad780-fd53-4d99-8356-d0d04f86e12c",
   "metadata": {},
   "source": [
    "  "
   ]
  },
  {
   "cell_type": "markdown",
   "id": "5c3b1cab-41e7-48a6-99f2-0736d4322225",
   "metadata": {},
   "source": [
    "  "
   ]
  },
  {
   "cell_type": "code",
   "execution_count": 10,
   "id": "6aaad4e9-7670-49e5-ac3f-cb74d94a5bd7",
   "metadata": {},
   "outputs": [],
   "source": [
    "xi = df['Age'].values\n",
    "yi = df['Shear'].values\n",
    "\n",
    "n = len(xi)\n",
    "\n",
    "S_xx = np.sum(xi**2) - (1/n)*(np.sum(xi))**2\n",
    "S_xy = np.dot(xi, yi) - (1/n)*np.sum(xi)*np.sum(yi)\n",
    "\n",
    "B_1 = S_xy / S_xx\n",
    "B_0 = np.mean(yi) - B_1 * np.mean(xi)\n",
    "\n",
    "yi_hat = B_0 + B_1 * xi\n",
    "\n",
    "residuals = yi - yi_hat"
   ]
  },
  {
   "cell_type": "markdown",
   "id": "ac2467c6-906b-4947-bba1-b4b7a85a8f56",
   "metadata": {},
   "source": [
    "  "
   ]
  },
  {
   "cell_type": "markdown",
   "id": "1aff701a-f9af-458f-b19f-d6114e8e1cdc",
   "metadata": {},
   "source": [
    "  "
   ]
  },
  {
   "cell_type": "code",
   "execution_count": 11,
   "id": "f9e4b81d-c98d-42ad-85c6-cf5442dbdf63",
   "metadata": {},
   "outputs": [
    {
     "data": {
      "text/plain": [
       "np.float64(1.1141310096718371e-11)"
      ]
     },
     "execution_count": 11,
     "metadata": {},
     "output_type": "execute_result"
    }
   ],
   "source": [
    "np.sum(residuals)"
   ]
  },
  {
   "cell_type": "markdown",
   "id": "a9c6bdd2-6dd4-4f35-a5e2-0e4015a163ee",
   "metadata": {},
   "source": [
    "  "
   ]
  },
  {
   "cell_type": "markdown",
   "id": "cab452a4-c266-47f7-bf8b-0876481b9280",
   "metadata": {},
   "source": [
    "  "
   ]
  },
  {
   "cell_type": "code",
   "execution_count": 12,
   "id": "a6c1b6dd-cfdd-418a-af78-9c3e9bb9524c",
   "metadata": {},
   "outputs": [
    {
     "data": {
      "image/png": "[encoded data removed]",
      "text/plain": [
       "<Figure size 640x480 with 1 Axes>"
      ]
     },
     "metadata": {},
     "output_type": "display_data"
    }
   ],
   "source": [
    "import matplotlib.pyplot as plt\n",
    "\n",
    "plt.scatter(xi, yi, color='blue', label='Actual points')\n",
    "\n",
    "plt.plot(xi, yi_hat, color='red', label='Fitted line')\n",
    "\n",
    "plt.xlabel('X')\n",
    "plt.ylabel('y')\n",
    "# plt.xlim(0, 27)\n",
    "# plt.ylim(1500, 2800)\n",
    "plt.title('Linear Regression')\n",
    "plt.legend()\n",
    "plt.show()"
   ]
  },
  {
   "cell_type": "markdown",
   "id": "fa21f652-7c36-439c-918f-09fb5cb35205",
   "metadata": {},
   "source": [
    "  "
   ]
  },
  {
   "cell_type": "markdown",
   "id": "6ac7347c-2645-4a82-bae0-78e47b3a45f7",
   "metadata": {},
   "source": [
    "  "
   ]
  },
  {
   "cell_type": "markdown",
   "id": "e51680fb-1581-459f-916d-4c8abedbd141",
   "metadata": {},
   "source": [
    "  "
   ]
  },
  {
   "cell_type": "markdown",
   "id": "ec3c2fe4-3eb0-47ef-8374-3d50c667f0b9",
   "metadata": {},
   "source": [
    "  "
   ]
  },
  {
   "cell_type": "markdown",
   "id": "4c2eddf4-a1e0-4606-a55e-8db968537fce",
   "metadata": {},
   "source": [
    "  "
   ]
  },
  {
   "cell_type": "markdown",
   "id": "b84a94c5-10b0-4600-a4b9-69a9bd7136c2",
   "metadata": {},
   "source": [
    "  "
   ]
  },
  {
   "cell_type": "markdown",
   "id": "b2fc8205-fcf9-4bda-b395-18af5e0982e6",
   "metadata": {},
   "source": [
    "  "
   ]
  },
  {
   "cell_type": "markdown",
   "id": "a17a5785-7b1d-484d-8dd3-ba46d7e22901",
   "metadata": {},
   "source": [
    "  "
   ]
  },
  {
   "cell_type": "markdown",
   "id": "6abe51b8-423c-4312-829f-b834022af5c4",
   "metadata": {},
   "source": [
    "  "
   ]
  },
  {
   "cell_type": "markdown",
   "id": "97d0fe77-b116-4077-bbae-6afc6ecbb21e",
   "metadata": {},
   "source": [
    "  "
   ]
  },
  {
   "cell_type": "markdown",
   "id": "82763e89-2582-4e87-8209-c9a936d0bf38",
   "metadata": {},
   "source": [
    "  "
   ]
  },
  {
   "cell_type": "markdown",
   "id": "4fe2aaa7-9cf8-432e-94a7-e72c9e21dfc3",
   "metadata": {},
   "source": [
    "  "
   ]
  },
  {
   "cell_type": "markdown",
   "id": "9056042d-92d1-4dae-8846-c5ef2a2b4850",
   "metadata": {},
   "source": [
    "  "
   ]
  },
  {
   "cell_type": "markdown",
   "id": "054f147e-6ceb-49c5-9420-1098c0b8916d",
   "metadata": {},
   "source": [
    "  "
   ]
  },
  {
   "cell_type": "markdown",
   "id": "fa78b5b5-b1a8-488f-aca6-b6ae341c8055",
   "metadata": {},
   "source": [
    "  "
   ]
  },
  {
   "cell_type": "markdown",
   "id": "c5f8c2ee-f077-40ca-aeac-ddefc56f9a7d",
   "metadata": {},
   "source": [
    "  "
   ]
  },
  {
   "cell_type": "markdown",
   "id": "bd7f979d-78f4-485d-a195-5ddfe0a0156e",
   "metadata": {},
   "source": [
    "  "
   ]
  },
  {
   "cell_type": "markdown",
   "id": "00aa926c-bfd9-44b0-931f-fc6c6a73bed6",
   "metadata": {},
   "source": [
    "  "
   ]
  },
  {
   "cell_type": "markdown",
   "id": "42be01e8-e13a-4362-a1b4-eaec58a76c54",
   "metadata": {},
   "source": [
    "  "
   ]
  },
  {
   "cell_type": "markdown",
   "id": "0b387198-64f9-4ceb-9f03-2e17811f8fe9",
   "metadata": {},
   "source": [
    "  "
   ]
  },
  {
   "cell_type": "markdown",
   "id": "65c9271c-7303-4405-8803-af6c38a916b2",
   "metadata": {},
   "source": [
    "  "
   ]
  },
  {
   "cell_type": "markdown",
   "id": "28595c05-c2c4-42d6-82d4-f35aefa713a5",
   "metadata": {},
   "source": [
    "  "
   ]
  },
  {
   "cell_type": "markdown",
   "id": "05428d15-6aa6-4a7e-9ab9-9258c4764e1c",
   "metadata": {},
   "source": [
    "  "
   ]
  },
  {
   "cell_type": "markdown",
   "id": "9e888227-af79-408a-a2a2-bdc55273c4ae",
   "metadata": {},
   "source": [
    "  "
   ]
  },
  {
   "cell_type": "markdown",
   "id": "fbfef1c8-f800-4e92-b88e-e696421627fe",
   "metadata": {},
   "source": [
    "  "
   ]
  },
  {
   "cell_type": "markdown",
   "id": "66839801-12bb-4bbe-ad93-f293df29acd7",
   "metadata": {},
   "source": [
    "  "
   ]
  },
  {
   "cell_type": "markdown",
   "id": "ae98b5f4-27a0-4bee-af33-f285fe215af1",
   "metadata": {},
   "source": [
    "  "
   ]
  },
  {
   "cell_type": "markdown",
   "id": "86708c8d-181a-43fd-99a2-5cd27708fb0e",
   "metadata": {},
   "source": [
    "  "
   ]
  },
  {
   "cell_type": "markdown",
   "id": "34ebdc64-cc45-4fe3-88d9-396ea16a9554",
   "metadata": {},
   "source": [
    "  "
   ]
  },
  {
   "cell_type": "markdown",
   "id": "8919814f-aa4a-41ed-973e-a8ec6bb65fad",
   "metadata": {},
   "source": [
    "  "
   ]
  },
  {
   "cell_type": "markdown",
   "id": "79a4a1e5-7e67-4c11-9ec3-ba776538a569",
   "metadata": {},
   "source": [
    "  "
   ]
  },
  {
   "cell_type": "markdown",
   "id": "7c7c6a44-ff89-4ab2-997d-462cefb7755c",
   "metadata": {},
   "source": [
    "  "
   ]
  }
 ],
 "metadata": {
  "kernelspec": {
   "display_name": "Python 3 (ipykernel)",
   "language": "python",
   "name": "python3"
  },
  "language_info": {
   "codemirror_mode": {
    "name": "ipython",
    "version": 3
   },
   "file_extension": ".py",
   "mimetype": "text/x-python",
   "name": "python",
   "nbconvert_exporter": "python",
   "pygments_lexer": "ipython3",
   "version": "3.12.3"
  }
 },
 "nbformat": 4,
 "nbformat_minor": 5
}
